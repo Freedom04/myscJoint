{
 "cells": [
  {
   "cell_type": "code",
   "execution_count": 1,
   "metadata": {},
   "outputs": [],
   "source": [
    "import scJoint.process_db as process_db\n",
    "import h5py\n",
    "import pandas as pd\n",
    "import numpy as np\n",
    "from sklearn.manifold import TSNE\n",
    "import matplotlib.pyplot as plt\n",
    "import seaborn as sns\n",
    "import random\n",
    "random.seed(1)"
   ]
  },
  {
   "cell_type": "code",
   "execution_count": 2,
   "metadata": {},
   "outputs": [],
   "source": [
    "rna_h5_files = [\"data/citeseq_control_rna.h5\"] \n",
    "rna_label_files = [\"data/citeseq_control_cellTypes.csv\"] # csv file\n",
    "\n",
    "atac_h5_files = [\"data/asapseq_control_atac.h5\"]\n",
    "atac_label_files = [\"data/asapseq_control_cellTypes.csv\"]\n",
    "\n",
    "rna_protein_files = [\"data/citeseq_control_adt.h5\"] \n",
    "atac_protein_files = [\"data/asapseq_control_adt.h5\"] "
   ]
  },
  {
   "cell_type": "code",
   "execution_count": 4,
   "metadata": {},
   "outputs": [
    {
     "name": "stdout",
     "output_type": "stream",
     "text": [
      "['matrix']\n",
      "<KeysViewHDF5 ['barcodes', 'data', 'features']>\n",
      "(17441, 4644)\n"
     ]
    }
   ],
   "source": [
    "h5 = h5py.File(rna_h5_files[0], \"r\")\n",
    "print(list(h5.keys()))\n",
    "print(h5[\"matrix\"].keys())\n",
    "h5_data = h5['matrix/data']\n",
    "h5_barcode = h5['matrix/barcodes']\n",
    "h5_features = h5['matrix/features']\n",
    "print(h5_data.shape)"
   ]
  },
  {
   "cell_type": "code",
   "execution_count": 9,
   "metadata": {},
   "outputs": [
    {
     "data": {
      "text/plain": [
       "(4644, 17441)"
      ]
     },
     "execution_count": 9,
     "metadata": {},
     "output_type": "execute_result"
    }
   ],
   "source": [
    "rna_matrix = np.array(h5_data).transpose()\n",
    "rna_matrix.shape"
   ]
  },
  {
   "cell_type": "code",
   "execution_count": 11,
   "metadata": {},
   "outputs": [
    {
     "data": {
      "text/plain": [
       "(4644,)"
      ]
     },
     "execution_count": 11,
     "metadata": {},
     "output_type": "execute_result"
    }
   ],
   "source": [
    "rna_barcodes = np.array(h5_barcode)\n",
    "rna_barcodes\n",
    "rna_barcodes.shape"
   ]
  },
  {
   "cell_type": "code",
   "execution_count": 13,
   "metadata": {},
   "outputs": [
    {
     "data": {
      "text/plain": [
       "(17441,)"
      ]
     },
     "execution_count": 13,
     "metadata": {},
     "output_type": "execute_result"
    }
   ],
   "source": [
    "rna_features = np.array(h5_features)\n",
    "rna_features\n",
    "rna_features.shape"
   ]
  },
  {
   "cell_type": "code",
   "execution_count": 14,
   "metadata": {},
   "outputs": [
    {
     "name": "stdout",
     "output_type": "stream",
     "text": [
      "H5 dataset shape: (17441, 4644)\n",
      "H5 dataset shape: (17441, 4502)\n",
      "H5 dataset shape: (227, 4644)\n",
      "H5 dataset shape: (227, 4502)\n"
     ]
    }
   ],
   "source": [
    "# 转换为稀疏矩阵，并写入到.npz文件中\n",
    "process_db.data_parsing(rna_h5_files, atac_h5_files)\n",
    "process_db.data_parsing(rna_protein_files, atac_protein_files)"
   ]
  },
  {
   "cell_type": "code",
   "execution_count": 15,
   "metadata": {},
   "outputs": [
    {
     "name": "stdout",
     "output_type": "stream",
     "text": [
      "x              \n",
      "B                   263\n",
      "Effector CD4+ T    1079\n",
      "Effector CD8+ T     378\n",
      "Monocytes           180\n",
      "NK                  594\n",
      "Naive CD4+ T       1480\n",
      "Naive CD8+ T        670\n",
      "Name: count, dtype: int64\n",
      "x              \n",
      "B                   355\n",
      "DC                  203\n",
      "Effector CD4+ T     935\n",
      "Effector CD8+ T     362\n",
      "Monocytes           583\n",
      "NK                  428\n",
      "Naive CD4+ T       1056\n",
      "Naive CD8+ T        438\n",
      "unknown             142\n",
      "Name: count, dtype: int64\n"
     ]
    }
   ],
   "source": [
    "rna_label = pd.read_csv(rna_label_files[0], index_col = 0)\n",
    "rna_label\n",
    "print(rna_label.value_counts(sort = False))\n",
    "atac_label = pd.read_csv(atac_label_files[0], index_col = 0)\n",
    "atac_label\n",
    "print(atac_label.value_counts(sort = False))"
   ]
  },
  {
   "cell_type": "code",
   "execution_count": 16,
   "metadata": {},
   "outputs": [
    {
     "data": {
      "text/html": [
       "<div>\n",
       "<style scoped>\n",
       "    .dataframe tbody tr th:only-of-type {\n",
       "        vertical-align: middle;\n",
       "    }\n",
       "\n",
       "    .dataframe tbody tr th {\n",
       "        vertical-align: top;\n",
       "    }\n",
       "\n",
       "    .dataframe thead th {\n",
       "        text-align: right;\n",
       "    }\n",
       "</style>\n",
       "<table border=\"1\" class=\"dataframe\">\n",
       "  <thead>\n",
       "    <tr style=\"text-align: right;\">\n",
       "      <th></th>\n",
       "      <th>x</th>\n",
       "    </tr>\n",
       "  </thead>\n",
       "  <tbody>\n",
       "    <tr>\n",
       "      <th>1</th>\n",
       "      <td>NK</td>\n",
       "    </tr>\n",
       "    <tr>\n",
       "      <th>2</th>\n",
       "      <td>Naive CD4+ T</td>\n",
       "    </tr>\n",
       "    <tr>\n",
       "      <th>3</th>\n",
       "      <td>Effector CD4+ T</td>\n",
       "    </tr>\n",
       "    <tr>\n",
       "      <th>4</th>\n",
       "      <td>Naive CD4+ T</td>\n",
       "    </tr>\n",
       "    <tr>\n",
       "      <th>5</th>\n",
       "      <td>Naive CD4+ T</td>\n",
       "    </tr>\n",
       "    <tr>\n",
       "      <th>...</th>\n",
       "      <td>...</td>\n",
       "    </tr>\n",
       "    <tr>\n",
       "      <th>4640</th>\n",
       "      <td>Naive CD4+ T</td>\n",
       "    </tr>\n",
       "    <tr>\n",
       "      <th>4641</th>\n",
       "      <td>Effector CD8+ T</td>\n",
       "    </tr>\n",
       "    <tr>\n",
       "      <th>4642</th>\n",
       "      <td>Naive CD8+ T</td>\n",
       "    </tr>\n",
       "    <tr>\n",
       "      <th>4643</th>\n",
       "      <td>Effector CD4+ T</td>\n",
       "    </tr>\n",
       "    <tr>\n",
       "      <th>4644</th>\n",
       "      <td>NK</td>\n",
       "    </tr>\n",
       "  </tbody>\n",
       "</table>\n",
       "<p>4644 rows × 1 columns</p>\n",
       "</div>"
      ],
      "text/plain": [
       "                    x\n",
       "1                  NK\n",
       "2        Naive CD4+ T\n",
       "3     Effector CD4+ T\n",
       "4        Naive CD4+ T\n",
       "5        Naive CD4+ T\n",
       "...               ...\n",
       "4640     Naive CD4+ T\n",
       "4641  Effector CD8+ T\n",
       "4642     Naive CD8+ T\n",
       "4643  Effector CD4+ T\n",
       "4644               NK\n",
       "\n",
       "[4644 rows x 1 columns]"
      ]
     },
     "execution_count": 16,
     "metadata": {},
     "output_type": "execute_result"
    }
   ],
   "source": [
    "rna_label"
   ]
  },
  {
   "cell_type": "code",
   "execution_count": 17,
   "metadata": {},
   "outputs": [
    {
     "data": {
      "text/html": [
       "<div>\n",
       "<style scoped>\n",
       "    .dataframe tbody tr th:only-of-type {\n",
       "        vertical-align: middle;\n",
       "    }\n",
       "\n",
       "    .dataframe tbody tr th {\n",
       "        vertical-align: top;\n",
       "    }\n",
       "\n",
       "    .dataframe thead th {\n",
       "        text-align: right;\n",
       "    }\n",
       "</style>\n",
       "<table border=\"1\" class=\"dataframe\">\n",
       "  <thead>\n",
       "    <tr style=\"text-align: right;\">\n",
       "      <th></th>\n",
       "      <th>x</th>\n",
       "    </tr>\n",
       "  </thead>\n",
       "  <tbody>\n",
       "    <tr>\n",
       "      <th>1</th>\n",
       "      <td>DC</td>\n",
       "    </tr>\n",
       "    <tr>\n",
       "      <th>2</th>\n",
       "      <td>Monocytes</td>\n",
       "    </tr>\n",
       "    <tr>\n",
       "      <th>3</th>\n",
       "      <td>Monocytes</td>\n",
       "    </tr>\n",
       "    <tr>\n",
       "      <th>4</th>\n",
       "      <td>B</td>\n",
       "    </tr>\n",
       "    <tr>\n",
       "      <th>5</th>\n",
       "      <td>Monocytes</td>\n",
       "    </tr>\n",
       "    <tr>\n",
       "      <th>...</th>\n",
       "      <td>...</td>\n",
       "    </tr>\n",
       "    <tr>\n",
       "      <th>4498</th>\n",
       "      <td>DC</td>\n",
       "    </tr>\n",
       "    <tr>\n",
       "      <th>4499</th>\n",
       "      <td>DC</td>\n",
       "    </tr>\n",
       "    <tr>\n",
       "      <th>4500</th>\n",
       "      <td>Naive CD4+ T</td>\n",
       "    </tr>\n",
       "    <tr>\n",
       "      <th>4501</th>\n",
       "      <td>DC</td>\n",
       "    </tr>\n",
       "    <tr>\n",
       "      <th>4502</th>\n",
       "      <td>DC</td>\n",
       "    </tr>\n",
       "  </tbody>\n",
       "</table>\n",
       "<p>4502 rows × 1 columns</p>\n",
       "</div>"
      ],
      "text/plain": [
       "                 x\n",
       "1               DC\n",
       "2        Monocytes\n",
       "3        Monocytes\n",
       "4                B\n",
       "5        Monocytes\n",
       "...            ...\n",
       "4498            DC\n",
       "4499            DC\n",
       "4500  Naive CD4+ T\n",
       "4501            DC\n",
       "4502            DC\n",
       "\n",
       "[4502 rows x 1 columns]"
      ]
     },
     "execution_count": 17,
     "metadata": {},
     "output_type": "execute_result"
    }
   ],
   "source": [
    "atac_label"
   ]
  },
  {
   "cell_type": "code",
   "execution_count": 20,
   "metadata": {},
   "outputs": [
    {
     "name": "stdout",
     "output_type": "stream",
     "text": [
      "{'B': 0, 'Effector CD4+ T': 1, 'Effector CD8+ T': 2, 'Monocytes': 3, 'NK': 4, 'Naive CD4+ T': 5, 'Naive CD8+ T': 6}\n"
     ]
    }
   ],
   "source": [
    "process_db.label_parsing(rna_label_files, atac_label_files)"
   ]
  },
  {
   "cell_type": "code",
   "execution_count": null,
   "metadata": {},
   "outputs": [],
   "source": []
  }
 ],
 "metadata": {
  "kernelspec": {
   "display_name": "VitualEnvironment-00mYOpgH",
   "language": "python",
   "name": "python3"
  },
  "language_info": {
   "codemirror_mode": {
    "name": "ipython",
    "version": 3
   },
   "file_extension": ".py",
   "mimetype": "text/x-python",
   "name": "python",
   "nbconvert_exporter": "python",
   "pygments_lexer": "ipython3",
   "version": "3.8.17"
  }
 },
 "nbformat": 4,
 "nbformat_minor": 2
}
